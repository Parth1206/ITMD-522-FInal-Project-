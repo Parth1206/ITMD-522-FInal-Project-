{
 "cells": [
  {
   "cell_type": "code",
   "execution_count": 1,
   "id": "caab3c34",
   "metadata": {},
   "outputs": [],
   "source": [
    "import pandas as pd"
   ]
  },
  {
   "cell_type": "code",
   "execution_count": 3,
   "id": "d4f92c2e",
   "metadata": {},
   "outputs": [],
   "source": [
    "df = pd.read_csv(\"/Users/jaygupta/Desktop/ITMD 522/Final Project/heart_disease_health_indicators_BRFSS2015.csv\")"
   ]
  },
  {
   "cell_type": "code",
   "execution_count": 4,
   "id": "eeda63a1",
   "metadata": {},
   "outputs": [
    {
     "data": {
      "text/html": [
       "<div>\n",
       "<style scoped>\n",
       "    .dataframe tbody tr th:only-of-type {\n",
       "        vertical-align: middle;\n",
       "    }\n",
       "\n",
       "    .dataframe tbody tr th {\n",
       "        vertical-align: top;\n",
       "    }\n",
       "\n",
       "    .dataframe thead th {\n",
       "        text-align: right;\n",
       "    }\n",
       "</style>\n",
       "<table border=\"1\" class=\"dataframe\">\n",
       "  <thead>\n",
       "    <tr style=\"text-align: right;\">\n",
       "      <th></th>\n",
       "      <th>HeartDiseaseorAttack</th>\n",
       "      <th>HighBP</th>\n",
       "      <th>HighChol</th>\n",
       "      <th>CholCheck</th>\n",
       "      <th>BMI</th>\n",
       "      <th>Smoker</th>\n",
       "      <th>Stroke</th>\n",
       "      <th>Diabetes</th>\n",
       "      <th>PhysActivity</th>\n",
       "      <th>Fruits</th>\n",
       "      <th>...</th>\n",
       "      <th>AnyHealthcare</th>\n",
       "      <th>NoDocbcCost</th>\n",
       "      <th>GenHlth</th>\n",
       "      <th>MentHlth</th>\n",
       "      <th>PhysHlth</th>\n",
       "      <th>DiffWalk</th>\n",
       "      <th>Sex</th>\n",
       "      <th>Age</th>\n",
       "      <th>Education</th>\n",
       "      <th>Income</th>\n",
       "    </tr>\n",
       "  </thead>\n",
       "  <tbody>\n",
       "    <tr>\n",
       "      <th>0</th>\n",
       "      <td>0.0</td>\n",
       "      <td>1.0</td>\n",
       "      <td>1.0</td>\n",
       "      <td>1.0</td>\n",
       "      <td>40.0</td>\n",
       "      <td>1.0</td>\n",
       "      <td>0.0</td>\n",
       "      <td>0.0</td>\n",
       "      <td>0.0</td>\n",
       "      <td>0.0</td>\n",
       "      <td>...</td>\n",
       "      <td>1.0</td>\n",
       "      <td>0.0</td>\n",
       "      <td>5.0</td>\n",
       "      <td>18.0</td>\n",
       "      <td>15.0</td>\n",
       "      <td>1.0</td>\n",
       "      <td>0.0</td>\n",
       "      <td>9.0</td>\n",
       "      <td>4.0</td>\n",
       "      <td>3.0</td>\n",
       "    </tr>\n",
       "    <tr>\n",
       "      <th>1</th>\n",
       "      <td>0.0</td>\n",
       "      <td>0.0</td>\n",
       "      <td>0.0</td>\n",
       "      <td>0.0</td>\n",
       "      <td>25.0</td>\n",
       "      <td>1.0</td>\n",
       "      <td>0.0</td>\n",
       "      <td>0.0</td>\n",
       "      <td>1.0</td>\n",
       "      <td>0.0</td>\n",
       "      <td>...</td>\n",
       "      <td>0.0</td>\n",
       "      <td>1.0</td>\n",
       "      <td>3.0</td>\n",
       "      <td>0.0</td>\n",
       "      <td>0.0</td>\n",
       "      <td>0.0</td>\n",
       "      <td>0.0</td>\n",
       "      <td>7.0</td>\n",
       "      <td>6.0</td>\n",
       "      <td>1.0</td>\n",
       "    </tr>\n",
       "    <tr>\n",
       "      <th>2</th>\n",
       "      <td>0.0</td>\n",
       "      <td>1.0</td>\n",
       "      <td>1.0</td>\n",
       "      <td>1.0</td>\n",
       "      <td>28.0</td>\n",
       "      <td>0.0</td>\n",
       "      <td>0.0</td>\n",
       "      <td>0.0</td>\n",
       "      <td>0.0</td>\n",
       "      <td>1.0</td>\n",
       "      <td>...</td>\n",
       "      <td>1.0</td>\n",
       "      <td>1.0</td>\n",
       "      <td>5.0</td>\n",
       "      <td>30.0</td>\n",
       "      <td>30.0</td>\n",
       "      <td>1.0</td>\n",
       "      <td>0.0</td>\n",
       "      <td>9.0</td>\n",
       "      <td>4.0</td>\n",
       "      <td>8.0</td>\n",
       "    </tr>\n",
       "    <tr>\n",
       "      <th>3</th>\n",
       "      <td>0.0</td>\n",
       "      <td>1.0</td>\n",
       "      <td>0.0</td>\n",
       "      <td>1.0</td>\n",
       "      <td>27.0</td>\n",
       "      <td>0.0</td>\n",
       "      <td>0.0</td>\n",
       "      <td>0.0</td>\n",
       "      <td>1.0</td>\n",
       "      <td>1.0</td>\n",
       "      <td>...</td>\n",
       "      <td>1.0</td>\n",
       "      <td>0.0</td>\n",
       "      <td>2.0</td>\n",
       "      <td>0.0</td>\n",
       "      <td>0.0</td>\n",
       "      <td>0.0</td>\n",
       "      <td>0.0</td>\n",
       "      <td>11.0</td>\n",
       "      <td>3.0</td>\n",
       "      <td>6.0</td>\n",
       "    </tr>\n",
       "    <tr>\n",
       "      <th>4</th>\n",
       "      <td>0.0</td>\n",
       "      <td>1.0</td>\n",
       "      <td>1.0</td>\n",
       "      <td>1.0</td>\n",
       "      <td>24.0</td>\n",
       "      <td>0.0</td>\n",
       "      <td>0.0</td>\n",
       "      <td>0.0</td>\n",
       "      <td>1.0</td>\n",
       "      <td>1.0</td>\n",
       "      <td>...</td>\n",
       "      <td>1.0</td>\n",
       "      <td>0.0</td>\n",
       "      <td>2.0</td>\n",
       "      <td>3.0</td>\n",
       "      <td>0.0</td>\n",
       "      <td>0.0</td>\n",
       "      <td>0.0</td>\n",
       "      <td>11.0</td>\n",
       "      <td>5.0</td>\n",
       "      <td>4.0</td>\n",
       "    </tr>\n",
       "    <tr>\n",
       "      <th>...</th>\n",
       "      <td>...</td>\n",
       "      <td>...</td>\n",
       "      <td>...</td>\n",
       "      <td>...</td>\n",
       "      <td>...</td>\n",
       "      <td>...</td>\n",
       "      <td>...</td>\n",
       "      <td>...</td>\n",
       "      <td>...</td>\n",
       "      <td>...</td>\n",
       "      <td>...</td>\n",
       "      <td>...</td>\n",
       "      <td>...</td>\n",
       "      <td>...</td>\n",
       "      <td>...</td>\n",
       "      <td>...</td>\n",
       "      <td>...</td>\n",
       "      <td>...</td>\n",
       "      <td>...</td>\n",
       "      <td>...</td>\n",
       "      <td>...</td>\n",
       "    </tr>\n",
       "    <tr>\n",
       "      <th>253675</th>\n",
       "      <td>0.0</td>\n",
       "      <td>1.0</td>\n",
       "      <td>1.0</td>\n",
       "      <td>1.0</td>\n",
       "      <td>45.0</td>\n",
       "      <td>0.0</td>\n",
       "      <td>0.0</td>\n",
       "      <td>0.0</td>\n",
       "      <td>0.0</td>\n",
       "      <td>1.0</td>\n",
       "      <td>...</td>\n",
       "      <td>1.0</td>\n",
       "      <td>0.0</td>\n",
       "      <td>3.0</td>\n",
       "      <td>0.0</td>\n",
       "      <td>5.0</td>\n",
       "      <td>0.0</td>\n",
       "      <td>1.0</td>\n",
       "      <td>5.0</td>\n",
       "      <td>6.0</td>\n",
       "      <td>7.0</td>\n",
       "    </tr>\n",
       "    <tr>\n",
       "      <th>253676</th>\n",
       "      <td>0.0</td>\n",
       "      <td>1.0</td>\n",
       "      <td>1.0</td>\n",
       "      <td>1.0</td>\n",
       "      <td>18.0</td>\n",
       "      <td>0.0</td>\n",
       "      <td>0.0</td>\n",
       "      <td>2.0</td>\n",
       "      <td>0.0</td>\n",
       "      <td>0.0</td>\n",
       "      <td>...</td>\n",
       "      <td>1.0</td>\n",
       "      <td>0.0</td>\n",
       "      <td>4.0</td>\n",
       "      <td>0.0</td>\n",
       "      <td>0.0</td>\n",
       "      <td>1.0</td>\n",
       "      <td>0.0</td>\n",
       "      <td>11.0</td>\n",
       "      <td>2.0</td>\n",
       "      <td>4.0</td>\n",
       "    </tr>\n",
       "    <tr>\n",
       "      <th>253677</th>\n",
       "      <td>0.0</td>\n",
       "      <td>0.0</td>\n",
       "      <td>0.0</td>\n",
       "      <td>1.0</td>\n",
       "      <td>28.0</td>\n",
       "      <td>0.0</td>\n",
       "      <td>0.0</td>\n",
       "      <td>0.0</td>\n",
       "      <td>1.0</td>\n",
       "      <td>1.0</td>\n",
       "      <td>...</td>\n",
       "      <td>1.0</td>\n",
       "      <td>0.0</td>\n",
       "      <td>1.0</td>\n",
       "      <td>0.0</td>\n",
       "      <td>0.0</td>\n",
       "      <td>0.0</td>\n",
       "      <td>0.0</td>\n",
       "      <td>2.0</td>\n",
       "      <td>5.0</td>\n",
       "      <td>2.0</td>\n",
       "    </tr>\n",
       "    <tr>\n",
       "      <th>253678</th>\n",
       "      <td>0.0</td>\n",
       "      <td>1.0</td>\n",
       "      <td>0.0</td>\n",
       "      <td>1.0</td>\n",
       "      <td>23.0</td>\n",
       "      <td>0.0</td>\n",
       "      <td>0.0</td>\n",
       "      <td>0.0</td>\n",
       "      <td>0.0</td>\n",
       "      <td>1.0</td>\n",
       "      <td>...</td>\n",
       "      <td>1.0</td>\n",
       "      <td>0.0</td>\n",
       "      <td>3.0</td>\n",
       "      <td>0.0</td>\n",
       "      <td>0.0</td>\n",
       "      <td>0.0</td>\n",
       "      <td>1.0</td>\n",
       "      <td>7.0</td>\n",
       "      <td>5.0</td>\n",
       "      <td>1.0</td>\n",
       "    </tr>\n",
       "    <tr>\n",
       "      <th>253679</th>\n",
       "      <td>1.0</td>\n",
       "      <td>1.0</td>\n",
       "      <td>1.0</td>\n",
       "      <td>1.0</td>\n",
       "      <td>25.0</td>\n",
       "      <td>0.0</td>\n",
       "      <td>0.0</td>\n",
       "      <td>2.0</td>\n",
       "      <td>1.0</td>\n",
       "      <td>1.0</td>\n",
       "      <td>...</td>\n",
       "      <td>1.0</td>\n",
       "      <td>0.0</td>\n",
       "      <td>2.0</td>\n",
       "      <td>0.0</td>\n",
       "      <td>0.0</td>\n",
       "      <td>0.0</td>\n",
       "      <td>0.0</td>\n",
       "      <td>9.0</td>\n",
       "      <td>6.0</td>\n",
       "      <td>2.0</td>\n",
       "    </tr>\n",
       "  </tbody>\n",
       "</table>\n",
       "<p>253680 rows × 22 columns</p>\n",
       "</div>"
      ],
      "text/plain": [
       "        HeartDiseaseorAttack  HighBP  HighChol  CholCheck   BMI  Smoker  \\\n",
       "0                        0.0     1.0       1.0        1.0  40.0     1.0   \n",
       "1                        0.0     0.0       0.0        0.0  25.0     1.0   \n",
       "2                        0.0     1.0       1.0        1.0  28.0     0.0   \n",
       "3                        0.0     1.0       0.0        1.0  27.0     0.0   \n",
       "4                        0.0     1.0       1.0        1.0  24.0     0.0   \n",
       "...                      ...     ...       ...        ...   ...     ...   \n",
       "253675                   0.0     1.0       1.0        1.0  45.0     0.0   \n",
       "253676                   0.0     1.0       1.0        1.0  18.0     0.0   \n",
       "253677                   0.0     0.0       0.0        1.0  28.0     0.0   \n",
       "253678                   0.0     1.0       0.0        1.0  23.0     0.0   \n",
       "253679                   1.0     1.0       1.0        1.0  25.0     0.0   \n",
       "\n",
       "        Stroke  Diabetes  PhysActivity  Fruits  ...  AnyHealthcare  \\\n",
       "0          0.0       0.0           0.0     0.0  ...            1.0   \n",
       "1          0.0       0.0           1.0     0.0  ...            0.0   \n",
       "2          0.0       0.0           0.0     1.0  ...            1.0   \n",
       "3          0.0       0.0           1.0     1.0  ...            1.0   \n",
       "4          0.0       0.0           1.0     1.0  ...            1.0   \n",
       "...        ...       ...           ...     ...  ...            ...   \n",
       "253675     0.0       0.0           0.0     1.0  ...            1.0   \n",
       "253676     0.0       2.0           0.0     0.0  ...            1.0   \n",
       "253677     0.0       0.0           1.0     1.0  ...            1.0   \n",
       "253678     0.0       0.0           0.0     1.0  ...            1.0   \n",
       "253679     0.0       2.0           1.0     1.0  ...            1.0   \n",
       "\n",
       "        NoDocbcCost  GenHlth  MentHlth  PhysHlth  DiffWalk  Sex   Age  \\\n",
       "0               0.0      5.0      18.0      15.0       1.0  0.0   9.0   \n",
       "1               1.0      3.0       0.0       0.0       0.0  0.0   7.0   \n",
       "2               1.0      5.0      30.0      30.0       1.0  0.0   9.0   \n",
       "3               0.0      2.0       0.0       0.0       0.0  0.0  11.0   \n",
       "4               0.0      2.0       3.0       0.0       0.0  0.0  11.0   \n",
       "...             ...      ...       ...       ...       ...  ...   ...   \n",
       "253675          0.0      3.0       0.0       5.0       0.0  1.0   5.0   \n",
       "253676          0.0      4.0       0.0       0.0       1.0  0.0  11.0   \n",
       "253677          0.0      1.0       0.0       0.0       0.0  0.0   2.0   \n",
       "253678          0.0      3.0       0.0       0.0       0.0  1.0   7.0   \n",
       "253679          0.0      2.0       0.0       0.0       0.0  0.0   9.0   \n",
       "\n",
       "        Education  Income  \n",
       "0             4.0     3.0  \n",
       "1             6.0     1.0  \n",
       "2             4.0     8.0  \n",
       "3             3.0     6.0  \n",
       "4             5.0     4.0  \n",
       "...           ...     ...  \n",
       "253675        6.0     7.0  \n",
       "253676        2.0     4.0  \n",
       "253677        5.0     2.0  \n",
       "253678        5.0     1.0  \n",
       "253679        6.0     2.0  \n",
       "\n",
       "[253680 rows x 22 columns]"
      ]
     },
     "execution_count": 4,
     "metadata": {},
     "output_type": "execute_result"
    }
   ],
   "source": [
    "df"
   ]
  },
  {
   "cell_type": "markdown",
   "id": "ea1f30a1",
   "metadata": {},
   "source": [
    "#### As we can see, the data is usually made up of Integer and Float Values. These are Numerical attributes. Few of them are Discrete and few of them are continuous."
   ]
  },
  {
   "cell_type": "markdown",
   "id": "72227e35",
   "metadata": {},
   "source": [
    "# Data PreProcessing "
   ]
  },
  {
   "cell_type": "markdown",
   "id": "9235f4ad",
   "metadata": {},
   "source": [
    "## Checking for any missing values in the dataset"
   ]
  },
  {
   "cell_type": "code",
   "execution_count": 5,
   "id": "34d59ae4",
   "metadata": {},
   "outputs": [
    {
     "data": {
      "text/plain": [
       "HeartDiseaseorAttack    0\n",
       "HighBP                  0\n",
       "HighChol                0\n",
       "CholCheck               0\n",
       "BMI                     0\n",
       "Smoker                  0\n",
       "Stroke                  0\n",
       "Diabetes                0\n",
       "PhysActivity            0\n",
       "Fruits                  0\n",
       "Veggies                 0\n",
       "HvyAlcoholConsump       0\n",
       "AnyHealthcare           0\n",
       "NoDocbcCost             0\n",
       "GenHlth                 0\n",
       "MentHlth                0\n",
       "PhysHlth                0\n",
       "DiffWalk                0\n",
       "Sex                     0\n",
       "Age                     0\n",
       "Education               0\n",
       "Income                  0\n",
       "dtype: int64"
      ]
     },
     "execution_count": 5,
     "metadata": {},
     "output_type": "execute_result"
    }
   ],
   "source": [
    "df.isna().sum()"
   ]
  },
  {
   "cell_type": "markdown",
   "id": "1b74c4e9",
   "metadata": {},
   "source": [
    "###  There are no missing values in the data."
   ]
  },
  {
   "cell_type": "markdown",
   "id": "4e0a9915",
   "metadata": {},
   "source": [
    "### As we are going to implement the classification task, we will scale the data into the range of 0-1"
   ]
  },
  {
   "cell_type": "code",
   "execution_count": 6,
   "id": "590c6e1d",
   "metadata": {},
   "outputs": [
    {
     "name": "stdout",
     "output_type": "stream",
     "text": [
      "        HeartDiseaseorAttack  HighBP  HighChol  CholCheck       BMI  Smoker  \\\n",
      "0                        0.0     1.0       1.0        1.0  0.325581     1.0   \n",
      "1                        0.0     0.0       0.0        0.0  0.151163     1.0   \n",
      "2                        0.0     1.0       1.0        1.0  0.186047     0.0   \n",
      "3                        0.0     1.0       0.0        1.0  0.174419     0.0   \n",
      "4                        0.0     1.0       1.0        1.0  0.139535     0.0   \n",
      "...                      ...     ...       ...        ...       ...     ...   \n",
      "253675                   0.0     1.0       1.0        1.0  0.383721     0.0   \n",
      "253676                   0.0     1.0       1.0        1.0  0.069767     0.0   \n",
      "253677                   0.0     0.0       0.0        1.0  0.186047     0.0   \n",
      "253678                   0.0     1.0       0.0        1.0  0.127907     0.0   \n",
      "253679                   1.0     1.0       1.0        1.0  0.151163     0.0   \n",
      "\n",
      "        Stroke  Diabetes  PhysActivity  Fruits  ...  AnyHealthcare  \\\n",
      "0          0.0       0.0           0.0     0.0  ...            1.0   \n",
      "1          0.0       0.0           1.0     0.0  ...            0.0   \n",
      "2          0.0       0.0           0.0     1.0  ...            1.0   \n",
      "3          0.0       0.0           1.0     1.0  ...            1.0   \n",
      "4          0.0       0.0           1.0     1.0  ...            1.0   \n",
      "...        ...       ...           ...     ...  ...            ...   \n",
      "253675     0.0       0.0           0.0     1.0  ...            1.0   \n",
      "253676     0.0       1.0           0.0     0.0  ...            1.0   \n",
      "253677     0.0       0.0           1.0     1.0  ...            1.0   \n",
      "253678     0.0       0.0           0.0     1.0  ...            1.0   \n",
      "253679     0.0       1.0           1.0     1.0  ...            1.0   \n",
      "\n",
      "        NoDocbcCost  GenHlth  MentHlth  PhysHlth  DiffWalk  Sex       Age  \\\n",
      "0               0.0     1.00       0.6  0.500000       1.0  0.0  0.666667   \n",
      "1               1.0     0.50       0.0  0.000000       0.0  0.0  0.500000   \n",
      "2               1.0     1.00       1.0  1.000000       1.0  0.0  0.666667   \n",
      "3               0.0     0.25       0.0  0.000000       0.0  0.0  0.833333   \n",
      "4               0.0     0.25       0.1  0.000000       0.0  0.0  0.833333   \n",
      "...             ...      ...       ...       ...       ...  ...       ...   \n",
      "253675          0.0     0.50       0.0  0.166667       0.0  1.0  0.333333   \n",
      "253676          0.0     0.75       0.0  0.000000       1.0  0.0  0.833333   \n",
      "253677          0.0     0.00       0.0  0.000000       0.0  0.0  0.083333   \n",
      "253678          0.0     0.50       0.0  0.000000       0.0  1.0  0.500000   \n",
      "253679          0.0     0.25       0.0  0.000000       0.0  0.0  0.666667   \n",
      "\n",
      "        Education    Income  \n",
      "0             0.6  0.285714  \n",
      "1             1.0  0.000000  \n",
      "2             0.6  1.000000  \n",
      "3             0.4  0.714286  \n",
      "4             0.8  0.428571  \n",
      "...           ...       ...  \n",
      "253675        1.0  0.857143  \n",
      "253676        0.2  0.428571  \n",
      "253677        0.8  0.142857  \n",
      "253678        0.8  0.000000  \n",
      "253679        1.0  0.142857  \n",
      "\n",
      "[253680 rows x 22 columns]\n"
     ]
    }
   ],
   "source": [
    "from sklearn.preprocessing import MinMaxScaler\n",
    "scaler = MinMaxScaler(feature_range=(0,1))\n",
    "numeric_data = ['int64', 'float64']\n",
    "cols_numeric = df.select_dtypes(include=numeric_data).columns.tolist()\n",
    "cols_numeric_index=[df.columns.get_loc(col) for col in cols_numeric]\n",
    "df[cols_numeric]=scaler.fit_transform(df[cols_numeric])\n",
    "df = df[cols_numeric]\n",
    "print(df[cols_numeric])"
   ]
  },
  {
   "cell_type": "markdown",
   "id": "e3c55da3",
   "metadata": {},
   "source": [
    "### Further, we do not need to convert any attributes to numeric as all of them are numeric itself."
   ]
  },
  {
   "cell_type": "markdown",
   "id": "3487408f",
   "metadata": {},
   "source": [
    "## Encoding the data for the Label "
   ]
  },
  {
   "cell_type": "code",
   "execution_count": 7,
   "id": "4609e899",
   "metadata": {},
   "outputs": [
    {
     "name": "stderr",
     "output_type": "stream",
     "text": [
      "/var/folders/_m/t8lzzcn5137b7_h1b1mvd_bm0000gn/T/ipykernel_8958/1628918669.py:8: FutureWarning: In a future version of pandas all arguments of DataFrame.drop except for the argument 'labels' will be keyword-only.\n",
      "  x_features = df.drop('HeartDiseaseorAttack',1)\n"
     ]
    },
    {
     "data": {
      "text/plain": [
       "array([0, 0, 0, ..., 0, 0, 1])"
      ]
     },
     "execution_count": 7,
     "metadata": {},
     "output_type": "execute_result"
    }
   ],
   "source": [
    "# Label Encoding for Decision Tree. This process is also known as OneHot Encoding. \n",
    "from sklearn import preprocessing\n",
    "y = df['HeartDiseaseorAttack']\n",
    "le = preprocessing.LabelEncoder()\n",
    "le.fit(y)\n",
    "y_encoded = le.transform(y)\n",
    "df['HeartDiseaseorAttack'] = y_encoded\n",
    "x_features = df.drop('HeartDiseaseorAttack',1)\n",
    "y_encoded"
   ]
  },
  {
   "cell_type": "markdown",
   "id": "f73e332e",
   "metadata": {},
   "source": [
    "# Feature Selection"
   ]
  },
  {
   "cell_type": "code",
   "execution_count": 8,
   "id": "b4d05c9e",
   "metadata": {},
   "outputs": [
    {
     "name": "stdout",
     "output_type": "stream",
     "text": [
      "\n",
      "Selected features by ANOVA: ['HighBP' 'HighChol' 'Smoker' 'Stroke' 'Diabetes' 'GenHlth' 'PhysHlth'\n",
      " 'DiffWalk' 'Age' 'Income']\n"
     ]
    }
   ],
   "source": [
    "from sklearn.feature_selection import SelectKBest\n",
    "from sklearn.feature_selection import f_classif\n",
    "\n",
    "selector = SelectKBest(f_classif, k=10).fit(x_features, y_encoded)\n",
    "print('\\nSelected features by ANOVA:', selector.get_feature_names_out())"
   ]
  },
  {
   "cell_type": "markdown",
   "id": "18186599",
   "metadata": {},
   "source": [
    "## We have implemented feature selection with the help of ANOVA. The important factors or features that can cause a heart attack are HighBP, HighChol, Smoker, Stroke, Diabities, GenHealth,PhysHealth, DiffWalk, Age and Income."
   ]
  },
  {
   "cell_type": "markdown",
   "id": "28232b46",
   "metadata": {},
   "source": [
    "### Creating a dataframe with the 5 top selected important features"
   ]
  },
  {
   "cell_type": "code",
   "execution_count": 9,
   "id": "cb9e0acb",
   "metadata": {},
   "outputs": [],
   "source": [
    "df1 = df[[\"HighBP\" , \"HighChol\", \"Smoker\", \"Stroke\", \"Diabetes\"]]"
   ]
  },
  {
   "cell_type": "code",
   "execution_count": 10,
   "id": "0a32b4a2",
   "metadata": {},
   "outputs": [
    {
     "data": {
      "text/html": [
       "<div>\n",
       "<style scoped>\n",
       "    .dataframe tbody tr th:only-of-type {\n",
       "        vertical-align: middle;\n",
       "    }\n",
       "\n",
       "    .dataframe tbody tr th {\n",
       "        vertical-align: top;\n",
       "    }\n",
       "\n",
       "    .dataframe thead th {\n",
       "        text-align: right;\n",
       "    }\n",
       "</style>\n",
       "<table border=\"1\" class=\"dataframe\">\n",
       "  <thead>\n",
       "    <tr style=\"text-align: right;\">\n",
       "      <th></th>\n",
       "      <th>HighBP</th>\n",
       "      <th>HighChol</th>\n",
       "      <th>Smoker</th>\n",
       "      <th>Stroke</th>\n",
       "      <th>Diabetes</th>\n",
       "    </tr>\n",
       "  </thead>\n",
       "  <tbody>\n",
       "    <tr>\n",
       "      <th>0</th>\n",
       "      <td>1.0</td>\n",
       "      <td>1.0</td>\n",
       "      <td>1.0</td>\n",
       "      <td>0.0</td>\n",
       "      <td>0.0</td>\n",
       "    </tr>\n",
       "    <tr>\n",
       "      <th>1</th>\n",
       "      <td>0.0</td>\n",
       "      <td>0.0</td>\n",
       "      <td>1.0</td>\n",
       "      <td>0.0</td>\n",
       "      <td>0.0</td>\n",
       "    </tr>\n",
       "    <tr>\n",
       "      <th>2</th>\n",
       "      <td>1.0</td>\n",
       "      <td>1.0</td>\n",
       "      <td>0.0</td>\n",
       "      <td>0.0</td>\n",
       "      <td>0.0</td>\n",
       "    </tr>\n",
       "    <tr>\n",
       "      <th>3</th>\n",
       "      <td>1.0</td>\n",
       "      <td>0.0</td>\n",
       "      <td>0.0</td>\n",
       "      <td>0.0</td>\n",
       "      <td>0.0</td>\n",
       "    </tr>\n",
       "    <tr>\n",
       "      <th>4</th>\n",
       "      <td>1.0</td>\n",
       "      <td>1.0</td>\n",
       "      <td>0.0</td>\n",
       "      <td>0.0</td>\n",
       "      <td>0.0</td>\n",
       "    </tr>\n",
       "    <tr>\n",
       "      <th>...</th>\n",
       "      <td>...</td>\n",
       "      <td>...</td>\n",
       "      <td>...</td>\n",
       "      <td>...</td>\n",
       "      <td>...</td>\n",
       "    </tr>\n",
       "    <tr>\n",
       "      <th>253675</th>\n",
       "      <td>1.0</td>\n",
       "      <td>1.0</td>\n",
       "      <td>0.0</td>\n",
       "      <td>0.0</td>\n",
       "      <td>0.0</td>\n",
       "    </tr>\n",
       "    <tr>\n",
       "      <th>253676</th>\n",
       "      <td>1.0</td>\n",
       "      <td>1.0</td>\n",
       "      <td>0.0</td>\n",
       "      <td>0.0</td>\n",
       "      <td>1.0</td>\n",
       "    </tr>\n",
       "    <tr>\n",
       "      <th>253677</th>\n",
       "      <td>0.0</td>\n",
       "      <td>0.0</td>\n",
       "      <td>0.0</td>\n",
       "      <td>0.0</td>\n",
       "      <td>0.0</td>\n",
       "    </tr>\n",
       "    <tr>\n",
       "      <th>253678</th>\n",
       "      <td>1.0</td>\n",
       "      <td>0.0</td>\n",
       "      <td>0.0</td>\n",
       "      <td>0.0</td>\n",
       "      <td>0.0</td>\n",
       "    </tr>\n",
       "    <tr>\n",
       "      <th>253679</th>\n",
       "      <td>1.0</td>\n",
       "      <td>1.0</td>\n",
       "      <td>0.0</td>\n",
       "      <td>0.0</td>\n",
       "      <td>1.0</td>\n",
       "    </tr>\n",
       "  </tbody>\n",
       "</table>\n",
       "<p>253680 rows × 5 columns</p>\n",
       "</div>"
      ],
      "text/plain": [
       "        HighBP  HighChol  Smoker  Stroke  Diabetes\n",
       "0          1.0       1.0     1.0     0.0       0.0\n",
       "1          0.0       0.0     1.0     0.0       0.0\n",
       "2          1.0       1.0     0.0     0.0       0.0\n",
       "3          1.0       0.0     0.0     0.0       0.0\n",
       "4          1.0       1.0     0.0     0.0       0.0\n",
       "...        ...       ...     ...     ...       ...\n",
       "253675     1.0       1.0     0.0     0.0       0.0\n",
       "253676     1.0       1.0     0.0     0.0       1.0\n",
       "253677     0.0       0.0     0.0     0.0       0.0\n",
       "253678     1.0       0.0     0.0     0.0       0.0\n",
       "253679     1.0       1.0     0.0     0.0       1.0\n",
       "\n",
       "[253680 rows x 5 columns]"
      ]
     },
     "execution_count": 10,
     "metadata": {},
     "output_type": "execute_result"
    }
   ],
   "source": [
    "df1"
   ]
  },
  {
   "cell_type": "markdown",
   "id": "757c6a60",
   "metadata": {},
   "source": [
    "## Splitting the Data with the help of Train Test Split."
   ]
  },
  {
   "cell_type": "code",
   "execution_count": 11,
   "id": "47bd7d16",
   "metadata": {},
   "outputs": [],
   "source": [
    "from sklearn.model_selection import train_test_split\n",
    "x_train, x_test, y_train, y_test =train_test_split(x_features, y_encoded, test_size=0.3)"
   ]
  },
  {
   "cell_type": "code",
   "execution_count": 12,
   "id": "e76fc1f1",
   "metadata": {},
   "outputs": [],
   "source": [
    "x1_train, x1_test, y1_train, y1_test =train_test_split(df1, y_encoded, test_size=0.3)"
   ]
  },
  {
   "cell_type": "markdown",
   "id": "5276285c",
   "metadata": {},
   "source": [
    "# Implementing the classification Modules"
   ]
  },
  {
   "cell_type": "markdown",
   "id": "f98c647e",
   "metadata": {},
   "source": [
    "### Model 1 -  Logistic Regression:"
   ]
  },
  {
   "cell_type": "code",
   "execution_count": 13,
   "id": "5fc49025",
   "metadata": {},
   "outputs": [],
   "source": [
    "# Importing the neccessary packages\n",
    "from sklearn import metrics \n",
    "from sklearn.linear_model import LogisticRegression\n",
    "from sklearn.metrics import make_scorer, precision_score, accuracy_score, recall_score\n",
    "from sklearn.metrics import confusion_matrix as cm\n",
    "from sklearn.metrics import f1_score"
   ]
  },
  {
   "cell_type": "code",
   "execution_count": 14,
   "id": "d2abe7f9",
   "metadata": {},
   "outputs": [
    {
     "name": "stdout",
     "output_type": "stream",
     "text": [
      "By hold-out evaluation: acc =  0.9072190686429097 , precision =  0.7321853678691103 , F1:  0.5796090424801806\n"
     ]
    }
   ],
   "source": [
    "clf=LogisticRegression(penalty='l2',solver='lbfgs')\n",
    "clf=clf.fit(x_train, y_train)\n",
    "y_pred=clf.predict(x_test)\n",
    "\n",
    "acc=accuracy_score(y_test, y_pred)\n",
    "pre=precision_score(y_test, y_pred, average='macro')\n",
    "f1=f1_score(y_test,y_pred, average='macro')\n",
    "print('By hold-out evaluation: acc = ',acc, ', precision = ', pre, ', F1: ', f1)"
   ]
  },
  {
   "cell_type": "markdown",
   "id": "2d7cacc1",
   "metadata": {},
   "source": [
    "## HyperParameter Tuning for Logistic Regression to find out the best Model"
   ]
  },
  {
   "cell_type": "code",
   "execution_count": 16,
   "id": "6eea6d2b",
   "metadata": {},
   "outputs": [
    {
     "name": "stdout",
     "output_type": "stream",
     "text": [
      "By hold-out evaluation: acc =  0.9076921055397876 , precision =  0.9076921055397876 , F1:  0.9076921055397876\n"
     ]
    }
   ],
   "source": [
    "clf=LogisticRegression(penalty='l1',solver='liblinear')\n",
    "clf=clf.fit(x_train, y_train)\n",
    "y_pred=clf.predict(x_test)\n",
    "\n",
    "acc=accuracy_score(y_test, y_pred)\n",
    "pre=precision_score(y_test, y_pred, average='micro')\n",
    "f1=f1_score(y_test,y_pred, average='micro')\n",
    "print('By hold-out evaluation: acc = ',acc, ', precision = ', pre, ', F1: ', f1)"
   ]
  },
  {
   "cell_type": "code",
   "execution_count": 17,
   "id": "b573c37f",
   "metadata": {},
   "outputs": [
    {
     "name": "stdout",
     "output_type": "stream",
     "text": [
      "By hold-out evaluation: acc =  0.9077315252811942 , precision =  0.7206670301000739 , F1:  0.5760879401802993\n"
     ]
    }
   ],
   "source": [
    "clf=LogisticRegression(penalty='l2',solver='newton-cg')\n",
    "clf=clf.fit(x_train, y_train)\n",
    "y_pred=clf.predict(x_test)\n",
    "\n",
    "acc=accuracy_score(y_test, y_pred)\n",
    "pre=precision_score(y_test, y_pred, average='macro')\n",
    "f1=f1_score(y_test,y_pred, average='macro')\n",
    "print('By hold-out evaluation: acc = ',acc, ', precision = ', pre, ', F1: ', f1)"
   ]
  },
  {
   "cell_type": "code",
   "execution_count": 18,
   "id": "bfe55c7d",
   "metadata": {},
   "outputs": [
    {
     "name": "stdout",
     "output_type": "stream",
     "text": [
      "By hold-out evaluation: acc =  0.9082702617470829 , precision =  0.9082702617470829 , F1:  0.9082702617470829\n"
     ]
    }
   ],
   "source": [
    "x_train, x_test, y_train, y_test = train_test_split(x_features, y_encoded, test_size=0.3)\n",
    "clf=LogisticRegression(penalty='l1',solver='liblinear')\n",
    "clf=clf.fit(x_train, y_train)\n",
    "y_pred=clf.predict(x_test)\n",
    "\n",
    "acc=accuracy_score(y_test, y_pred)\n",
    "pre=precision_score(y_test, y_pred, average='micro')\n",
    "f1=f1_score(y_test,y_pred, average='micro')\n",
    "print('By hold-out evaluation: acc = ',acc, ', precision = ', pre, ', F1: ', f1)"
   ]
  },
  {
   "cell_type": "markdown",
   "id": "24e44068",
   "metadata": {},
   "source": [
    "### Hence after evaluating the model using Logistic Regression, we found the accuracy to be 90.8% and the F1 score to be approximately 91%"
   ]
  },
  {
   "cell_type": "markdown",
   "id": "20b5ef18",
   "metadata": {},
   "source": [
    "## Implementing Logistic Regression with the best selected features"
   ]
  },
  {
   "cell_type": "code",
   "execution_count": 48,
   "id": "9b578838",
   "metadata": {},
   "outputs": [
    {
     "name": "stdout",
     "output_type": "stream",
     "text": [
      "By hold-out evaluation: acc =  0.906443813728582 , precision =  0.906443813728582 , F1:  0.906443813728582\n"
     ]
    }
   ],
   "source": [
    "clf=LogisticRegression(penalty='l2',solver='lbfgs')\n",
    "clf=clf.fit(x1_train, y1_train)\n",
    "y_pred=clf.predict(x1_test)\n",
    "\n",
    "acc=accuracy_score(y1_test, y_pred)\n",
    "pre=precision_score(y1_test, y_pred, average='micro')\n",
    "f1=f1_score(y1_test,y_pred, average='micro')\n",
    "print('By hold-out evaluation: acc = ',acc, ', precision = ', pre, ', F1: ', f1)"
   ]
  },
  {
   "cell_type": "markdown",
   "id": "cc12bbe9",
   "metadata": {},
   "source": [
    "### Thus, we can see that there is not much change in the accuracy and F1 Score with the help of the best selected features "
   ]
  },
  {
   "cell_type": "markdown",
   "id": "9577d94f",
   "metadata": {},
   "source": [
    "### Model 2 -  SVM:"
   ]
  },
  {
   "cell_type": "code",
   "execution_count": 14,
   "id": "3264b602",
   "metadata": {},
   "outputs": [
    {
     "name": "stderr",
     "output_type": "stream",
     "text": [
      "C:\\Users\\parth\\anaconda3\\lib\\site-packages\\sklearn\\svm\\_base.py:284: ConvergenceWarning: Solver terminated early (max_iter=1000).  Consider pre-processing your data with StandardScaler or MinMaxScaler.\n",
      "  warnings.warn(\n"
     ]
    },
    {
     "name": "stdout",
     "output_type": "stream",
     "text": [
      "Accuracy:  0.10636760222852938 , Precision:  0.5275286687948701 , Recall:  0.5041897588312587 , F1:  0.10636760222852938\n"
     ]
    }
   ],
   "source": [
    "from sklearn.svm import SVC\n",
    "clf=SVC(kernel='linear', C=0.5, max_iter=1000)            \n",
    "clf=clf.fit(x_train, y_train)\n",
    "y_pred=clf.predict(x_test)\n",
    "print('Accuracy: ', accuracy_score(y_test, y_pred), ', Precision: ', precision_score(y_test, y_pred, average='macro', ),\n",
    "         ', Recall: ', recall_score(y_test, y_pred, average='macro', ), ', F1: ', f1_score(y_test, y_pred, average='micro'))"
   ]
  },
  {
   "cell_type": "code",
   "execution_count": 17,
   "id": "209e8200",
   "metadata": {},
   "outputs": [
    {
     "name": "stderr",
     "output_type": "stream",
     "text": [
      "C:\\Users\\parth\\anaconda3\\lib\\site-packages\\sklearn\\svm\\_base.py:284: ConvergenceWarning: Solver terminated early (max_iter=1500).  Consider pre-processing your data with StandardScaler or MinMaxScaler.\n",
      "  warnings.warn(\n"
     ]
    },
    {
     "name": "stdout",
     "output_type": "stream",
     "text": [
      "Accuracy:  0.8188137285819405 , Precision:  0.5427602021643181 , Recall:  0.5569750319446818 , F1:  0.8188137285819405\n"
     ]
    }
   ],
   "source": [
    "clf=SVC(kernel='rbf', C=1, max_iter=1500) \n",
    "clf=clf.fit(x_train, y_train)           \n",
    "y_pred=clf.predict(x_test)\n",
    "print('Accuracy: ', accuracy_score(y_test, y_pred), ', Precision: ', precision_score(y_test, y_pred, average='macro', ),\n",
    "         ', Recall: ', recall_score(y_test, y_pred, average='macro', ), ', F1: ', f1_score(y_test, y_pred, average='micro'))"
   ]
  },
  {
   "cell_type": "code",
   "execution_count": 18,
   "id": "a7cb0aab",
   "metadata": {},
   "outputs": [
    {
     "name": "stderr",
     "output_type": "stream",
     "text": [
      "C:\\Users\\parth\\anaconda3\\lib\\site-packages\\sklearn\\svm\\_base.py:284: ConvergenceWarning: Solver terminated early (max_iter=8000).  Consider pre-processing your data with StandardScaler or MinMaxScaler.\n",
      "  warnings.warn(\n"
     ]
    },
    {
     "name": "stdout",
     "output_type": "stream",
     "text": [
      "Accuracy:  0.19631031220435194 , Precision:  0.469141768917804 , Recall:  0.4553667834061225 , F1:  0.1963103122043519\n"
     ]
    }
   ],
   "source": [
    "clf=SVC(kernel='linear', C=1.8, max_iter=8000)\n",
    "clf=clf.fit(x_train, y_train)                 \n",
    "y_pred=clf.predict(x_test)\n",
    "print('Accuracy: ', accuracy_score(y_test, y_pred), ', Precision: ', precision_score(y_test, y_pred, average='macro', ),\n",
    "         ', Recall: ', recall_score(y_test, y_pred, average='macro', ), ', F1: ', f1_score(y_test, y_pred, average='micro'))"
   ]
  },
  {
   "cell_type": "markdown",
   "id": "58983f4d",
   "metadata": {},
   "source": [
    "## Implementing SVM for the best features"
   ]
  },
  {
   "cell_type": "code",
   "execution_count": 17,
   "id": "b51f4415",
   "metadata": {},
   "outputs": [
    {
     "name": "stderr",
     "output_type": "stream",
     "text": [
      "C:\\Users\\parth\\anaconda3\\lib\\site-packages\\sklearn\\svm\\_base.py:284: ConvergenceWarning: Solver terminated early (max_iter=150).  Consider pre-processing your data with StandardScaler or MinMaxScaler.\n",
      "  warnings.warn(\n"
     ]
    },
    {
     "name": "stdout",
     "output_type": "stream",
     "text": [
      "Accuracy:  0.5421134237359403 , Precision:  0.5292255654051202 , Recall:  0.5856169233099718 , F1:  0.5421134237359403\n"
     ]
    }
   ],
   "source": [
    "clf=SVC(kernel='rbf', C=0.1 , max_iter=150) \n",
    "clf=clf.fit(x1_train, y1_train)           \n",
    "y_pred=clf.predict(x1_test)\n",
    "print('Accuracy: ', accuracy_score(y1_test, y_pred), ', Precision: ', precision_score(y1_test, y_pred, average='macro', ),\n",
    "         ', Recall: ', recall_score(y1_test, y_pred, average='macro', ), ', F1: ', f1_score(y1_test, y_pred, average='micro'))"
   ]
  },
  {
   "cell_type": "code",
   "execution_count": 18,
   "id": "81d1d833",
   "metadata": {},
   "outputs": [
    {
     "name": "stderr",
     "output_type": "stream",
     "text": [
      "C:\\Users\\parth\\anaconda3\\lib\\site-packages\\sklearn\\svm\\_base.py:284: ConvergenceWarning: Solver terminated early (max_iter=200).  Consider pre-processing your data with StandardScaler or MinMaxScaler.\n",
      "  warnings.warn(\n"
     ]
    },
    {
     "name": "stdout",
     "output_type": "stream",
     "text": [
      "Accuracy:  0.094108062651109 , Precision:  0.0470540313255545 , Recall:  0.5 , F1:  0.094108062651109\n"
     ]
    },
    {
     "name": "stderr",
     "output_type": "stream",
     "text": [
      "C:\\Users\\parth\\anaconda3\\lib\\site-packages\\sklearn\\metrics\\_classification.py:1318: UndefinedMetricWarning: Precision is ill-defined and being set to 0.0 in labels with no predicted samples. Use `zero_division` parameter to control this behavior.\n",
      "  _warn_prf(average, modifier, msg_start, len(result))\n"
     ]
    }
   ],
   "source": [
    "clf=SVC(kernel='linear', C=10 , max_iter=200) \n",
    "clf=clf.fit(x1_train, y1_train)           \n",
    "y_pred=clf.predict(x1_test)\n",
    "print('Accuracy: ', accuracy_score(y1_test, y_pred), ', Precision: ', precision_score(y1_test, y_pred, average='macro', ),\n",
    "         ', Recall: ', recall_score(y1_test, y_pred, average='macro', ), ', F1: ', f1_score(y1_test, y_pred, average='micro'))"
   ]
  },
  {
   "cell_type": "markdown",
   "id": "da294400",
   "metadata": {},
   "source": [
    "### Hence after evaluating the model using SVM, we found the accuracy to be 87.3% and the F1 score to be 87.3%"
   ]
  },
  {
   "cell_type": "markdown",
   "id": "f7357669",
   "metadata": {},
   "source": [
    "### Model 3 - KNN( K Nearest Neighbour)"
   ]
  },
  {
   "cell_type": "code",
   "execution_count": 15,
   "id": "af36425a",
   "metadata": {},
   "outputs": [
    {
     "name": "stdout",
     "output_type": "stream",
     "text": [
      "K = 161 , Accuracy:  0.9065095132975928 , Precision:  0.7907054330901109 , Recall:  0.5142509168300826 , F1:  0.9020025228634501\n",
      "K = 181 , Accuracy:  0.9065489330389993 , Precision:  0.8052441068775384 , Recall:  0.5131580324816392 , F1:  0.9023573005361085\n",
      "K = 201 , Accuracy:  0.9064306738147798 , Precision:  0.8003154867158675 , Recall:  0.5125353674754125 , F1:  0.9025281194155367\n",
      "K = 221 , Accuracy:  0.9065095132975928 , Precision:  0.8080814412561907 , Recall:  0.5125789233794152 , F1:  0.9026069588983496\n",
      "K = 241 , Accuracy:  0.9064569536423841 , Precision:  0.8124079325172994 , Recall:  0.5118067779097835 , F1:  0.9028434773467886\n",
      "K = 261 , Accuracy:  0.9064043939871754 , Precision:  0.8092094728983357 , Recall:  0.5115919635903741 , F1:  0.9028960370019973\n"
     ]
    }
   ],
   "source": [
    "from sklearn import neighbors\n",
    "kvalues = [161,181,201,221,241,261]\n",
    "for k in kvalues: \n",
    "    clf=neighbors.KNeighborsClassifier(k, metric='euclidean')\n",
    "    clf.fit(x_train, y_train)\n",
    "    y_pred = clf.predict(x_test)\n",
    "    print('K =', k, ', Accuracy: ', accuracy_score(y_test, y_pred), ', Precision: ', precision_score(y_test, y_pred, average='macro', zero_division=0),\n",
    "         ', Recall: ', recall_score(y_test, y_pred, average='macro', zero_division=0),', F1: ', f1_score(y1_test, y_pred, average='micro'))"
   ]
  },
  {
   "cell_type": "markdown",
   "id": "f5134780",
   "metadata": {},
   "source": [
    "## Thus, we can see that the accuracy of the Model is 90%. "
   ]
  },
  {
   "cell_type": "markdown",
   "id": "81b22658",
   "metadata": {},
   "source": [
    "### Hyperparameter Tuning for KNN"
   ]
  },
  {
   "cell_type": "code",
   "execution_count": 58,
   "id": "be9d534f",
   "metadata": {},
   "outputs": [
    {
     "name": "stdout",
     "output_type": "stream",
     "text": [
      "K = 161 , Accuracy:  0.9086644591611479 , Precision:  0.7699156747732305 , Recall:  0.5152115042268863\n",
      "K = 181 , Accuracy:  0.9084805003679176 , Precision:  0.7640590141524192 , Recall:  0.5138992310614233\n",
      "K = 201 , Accuracy:  0.9085987595921371 , Precision:  0.7717204079004768 , Recall:  0.5140918570045089\n",
      "K = 221 , Accuracy:  0.9084410806265111 , Precision:  0.7683142715664688 , Recall:  0.512666599941168\n",
      "K = 241 , Accuracy:  0.9085330600231263 , Precision:  0.7762102624983511 , Recall:  0.5126535491077969\n",
      "K = 261 , Accuracy:  0.9083228214022916 , Precision:  0.7676270977837557 , Recall:  0.511263063435611\n"
     ]
    }
   ],
   "source": [
    "from sklearn import neighbors\n",
    "kvalues = [161,181,201,221,241,261]\n",
    "for k in kvalues: \n",
    "    clf=neighbors.KNeighborsClassifier(k, metric='manhattan')\n",
    "    clf.fit(x_train, y_train)\n",
    "    y_pred = clf.predict(x_test)\n",
    "    print('K =', k, ', Accuracy: ', accuracy_score(y_test, y_pred), ', Precision: ', precision_score(y_test, y_pred, average='macro', zero_division=0),\n",
    "         ', Recall: ', recall_score(y_test, y_pred, average='macro', zero_division=0))"
   ]
  },
  {
   "cell_type": "code",
   "execution_count": 59,
   "id": "a9babeca",
   "metadata": {},
   "outputs": [
    {
     "name": "stdout",
     "output_type": "stream",
     "text": [
      "Accuracy:  0.9084805003679176 , Precision:  0.9084805003679176 , Recall:  0.9084805003679176 , F1:  0.5042620130377756\n",
      "Accuracy:  0.9085987595921371 , Precision:  0.9085987595921371 , Recall:  0.9085987595921371 , F1:  0.5045841745232682\n",
      "Accuracy:  0.9084410806265111 , Precision:  0.9084410806265111 , Recall:  0.9084410806265111 , F1:  0.5018065684804002\n"
     ]
    }
   ],
   "source": [
    "kvalues = [181,201,221]\n",
    "for k in kvalues: \n",
    "    clf=neighbors.KNeighborsClassifier(k, metric='manhattan')\n",
    "    clf.fit(x_train, y_train)\n",
    "    y_pred = clf.predict(x_test)\n",
    "    print('Accuracy: ', accuracy_score(y_test, y_pred), ', Precision: ', precision_score(y_test, y_pred, average='micro', ),\n",
    "         ', Recall: ', recall_score(y_test, y_pred, average='micro', ), ', F1: ', f1_score(y_test, y_pred, average='macro'))"
   ]
  },
  {
   "cell_type": "markdown",
   "id": "a439e873",
   "metadata": {},
   "source": [
    "### Implementing KNN for Best Features"
   ]
  },
  {
   "cell_type": "code",
   "execution_count": 46,
   "id": "b8b0dd13",
   "metadata": {},
   "outputs": [
    {
     "name": "stdout",
     "output_type": "stream",
     "text": [
      "Accuracy:  0.9065752128666036 , Precision:  0.9065752128666036 , Recall:  0.9065752128666036 , F1:  0.9065752128666036\n",
      "Accuracy:  0.9065752128666036 , Precision:  0.9065752128666036 , Recall:  0.9065752128666036 , F1:  0.9065752128666036\n",
      "Accuracy:  0.9065095132975928 , Precision:  0.9065095132975928 , Recall:  0.9065095132975928 , F1:  0.9065095132975928\n",
      "Accuracy:  0.9066540523494165 , Precision:  0.9066540523494165 , Recall:  0.9066540523494165 , F1:  0.9066540523494165\n",
      "Accuracy:  0.9065883527804057 , Precision:  0.9065883527804057 , Recall:  0.9065883527804057 , F1:  0.9065883527804057\n",
      "Accuracy:  0.9065883527804057 , Precision:  0.9065883527804057 , Recall:  0.9065883527804057 , F1:  0.9065883527804057\n"
     ]
    }
   ],
   "source": [
    "from sklearn import neighbors\n",
    "kvalues = [161,181,201,221,241,261]\n",
    "for k in kvalues: \n",
    "    clf=neighbors.KNeighborsClassifier(k, metric='euclidean')\n",
    "    clf.fit(x1_train, y1_train)\n",
    "    y_pred = clf.predict(x1_test)\n",
    "    print('Accuracy: ', accuracy_score(y1_test, y_pred), ', Precision: ', \n",
    "          precision_score(y1_test, y_pred, average='micro', ),\n",
    "         ', Recall: ', recall_score(y1_test, y_pred, average='micro', ),\n",
    "          ', F1: ', f1_score(y1_test, y_pred, average='micro'))"
   ]
  },
  {
   "cell_type": "code",
   "execution_count": 47,
   "id": "85db6056",
   "metadata": {},
   "outputs": [
    {
     "name": "stdout",
     "output_type": "stream",
     "text": [
      "Accuracy:  0.9065752128666036 , Precision:  0.9065752128666036 , Recall:  0.9065752128666036 , F1:  0.9065752128666036\n",
      "Accuracy:  0.9065095132975928 , Precision:  0.9065095132975928 , Recall:  0.9065095132975928 , F1:  0.9065095132975928\n",
      "Accuracy:  0.9066540523494165 , Precision:  0.9066540523494165 , Recall:  0.9066540523494165 , F1:  0.9066540523494165\n"
     ]
    }
   ],
   "source": [
    "from sklearn import neighbors\n",
    "kvalues = [181,201,221]\n",
    "for k in kvalues: \n",
    "    clf=neighbors.KNeighborsClassifier(k, metric='manhattan')\n",
    "    clf.fit(x1_train, y1_train)\n",
    "    y_pred = clf.predict(x1_test)\n",
    "    print('Accuracy: ', accuracy_score(y1_test, y_pred), ', Precision: ', \n",
    "          precision_score(y1_test, y_pred, average='micro', ),\n",
    "         ', Recall: ', recall_score(y1_test, y_pred, average='micro', )\n",
    "          , ', F1: ', f1_score(y1_test, y_pred, average='micro'))"
   ]
  },
  {
   "cell_type": "markdown",
   "id": "af42975d",
   "metadata": {},
   "source": [
    "### Model 4 - Decision Tree"
   ]
  },
  {
   "cell_type": "markdown",
   "id": "3f9303f6",
   "metadata": {},
   "source": [
    "## Decision Tree Implementation "
   ]
  },
  {
   "cell_type": "code",
   "execution_count": 32,
   "id": "2cf83c5d",
   "metadata": {},
   "outputs": [
    {
     "name": "stdout",
     "output_type": "stream",
     "text": [
      "Accuracy:  0.9052875013139914 , Precision:  0.9052875013139914 , Recall:  0.9052875013139914 , F1:  0.4751448275862069\n"
     ]
    },
    {
     "name": "stderr",
     "output_type": "stream",
     "text": [
      "/Users/jaygupta/opt/anaconda3/lib/python3.9/site-packages/sklearn/metrics/_classification.py:1318: UndefinedMetricWarning: Recall is ill-defined and being set to 0.0 due to no true samples. Use `zero_division` parameter to control this behavior.\n",
      "  _warn_prf(average, modifier, msg_start, len(result))\n"
     ]
    }
   ],
   "source": [
    "from sklearn.tree import DecisionTreeClassifier\n",
    "from sklearn.metrics import make_scorer, accuracy_score, precision_score, recall_score, f1_score\n",
    "clf=DecisionTreeClassifier(criterion='gini', max_depth=10, ccp_alpha = 0.1) \n",
    "clf=clf.fit(x_train, y_train)\n",
    "y_pred=clf.predict(x_test)\n",
    "acc=accuracy_score(y_pred, y_test)\n",
    "pre=precision_score(y_pred, y_test)\n",
    "rec=recall_score(y_pred, y_test)\n",
    "print('Accuracy: ', accuracy_score(y_test, y_pred), ', Precision: ', precision_score(y_test, y_pred, average='micro', ),\n",
    "         ', Recall: ', recall_score(y_test, y_pred, average='micro', ), ', F1: ', f1_score(y_test, y_pred, average='macro'))"
   ]
  },
  {
   "cell_type": "markdown",
   "id": "c80cec43",
   "metadata": {},
   "source": [
    "## Parameter Tuning to check for the accuracy of the Decision tree"
   ]
  },
  {
   "cell_type": "code",
   "execution_count": 32,
   "id": "a2c2227a",
   "metadata": {},
   "outputs": [
    {
     "name": "stdout",
     "output_type": "stream",
     "text": [
      "Accuracy:  0.9057736781246715 , Precision:  0.45288683906233573 , Recall:  0.5 , F1:  0.9057736781246715\n"
     ]
    },
    {
     "name": "stderr",
     "output_type": "stream",
     "text": [
      "C:\\Users\\parth\\anaconda3\\lib\\site-packages\\sklearn\\metrics\\_classification.py:1318: UndefinedMetricWarning: Recall is ill-defined and being set to 0.0 due to no true samples. Use `zero_division` parameter to control this behavior.\n",
      "  _warn_prf(average, modifier, msg_start, len(result))\n",
      "C:\\Users\\parth\\anaconda3\\lib\\site-packages\\sklearn\\metrics\\_classification.py:1318: UndefinedMetricWarning: Precision is ill-defined and being set to 0.0 in labels with no predicted samples. Use `zero_division` parameter to control this behavior.\n",
      "  _warn_prf(average, modifier, msg_start, len(result))\n"
     ]
    }
   ],
   "source": [
    "clf=DecisionTreeClassifier(criterion='gini', ccp_alpha = 0.1 , max_features = 'log2' ,random_state = 1) \n",
    "clf=clf.fit(x_train, y_train)\n",
    "y_pred=clf.predict(x_test)\n",
    "acc=accuracy_score(y_pred, y_test)\n",
    "pre=precision_score(y_pred, y_test)\n",
    "rec=recall_score(y_pred, y_test)\n",
    "print('Accuracy: ', accuracy_score(y_test, y_pred), ', Precision: ', precision_score(y_test, y_pred, average='macro', ),\n",
    "         ', Recall: ', recall_score(y_test, y_pred, average='macro', ), ', F1: ', f1_score(y_test, y_pred, average='micro'))"
   ]
  },
  {
   "cell_type": "code",
   "execution_count": 33,
   "id": "2d4c436d",
   "metadata": {},
   "outputs": [
    {
     "name": "stdout",
     "output_type": "stream",
     "text": [
      "Accuracy:  0.9059576369179018 , Precision:  0.7091197642176061 , Recall:  0.9059576369179018 , F1:  0.5383765979155641\n"
     ]
    }
   ],
   "source": [
    "clf=DecisionTreeClassifier(criterion='entropy', max_depth=900000, ccp_alpha = 0.001, max_leaf_nodes = 200 )\n",
    "clf=clf.fit(x_train, y_train)\n",
    "y_pred=clf.predict(x_test)\n",
    "acc=accuracy_score(y_pred, y_test)\n",
    "pre=precision_score(y_pred, y_test)\n",
    "rec=recall_score(y_pred, y_test)\n",
    "print('Accuracy: ', accuracy_score(y_test, y_pred), ', Precision: ', precision_score(y_test, y_pred, average='macro', ),\n",
    "         ', Recall: ', recall_score(y_test, y_pred, average='micro', ), ', F1: ', f1_score(y_test, y_pred, average='macro'))"
   ]
  },
  {
   "cell_type": "markdown",
   "id": "ced5d61d",
   "metadata": {},
   "source": [
    "### Constructing models for the decision trees using the best features"
   ]
  },
  {
   "cell_type": "code",
   "execution_count": 35,
   "id": "d52593b5",
   "metadata": {},
   "outputs": [
    {
     "name": "stdout",
     "output_type": "stream",
     "text": [
      "Accuracy:  0.9059050772626932 , Precision:  0.9059050772626932 , Recall:  0.9059050772626932 , F1:  0.9059050772626932\n"
     ]
    },
    {
     "name": "stderr",
     "output_type": "stream",
     "text": [
      "/Users/jaygupta/opt/anaconda3/lib/python3.9/site-packages/sklearn/metrics/_classification.py:1318: UndefinedMetricWarning: Recall is ill-defined and being set to 0.0 due to no true samples. Use `zero_division` parameter to control this behavior.\n",
      "  _warn_prf(average, modifier, msg_start, len(result))\n"
     ]
    }
   ],
   "source": [
    "clf=DecisionTreeClassifier(criterion='gini', max_depth=1000000 , ccp_alpha = 0.001) \n",
    "clf=clf.fit(x1_train, y1_train)\n",
    "y_pred=clf.predict(x1_test)\n",
    "acc=accuracy_score(y_pred, y1_test)\n",
    "pre=precision_score(y_pred, y1_test)\n",
    "rec=recall_score(y_pred, y1_test)\n",
    "print('Accuracy: ', accuracy_score(y1_test, y_pred),\n",
    "      ', Precision: ', precision_score(y1_test, y_pred, average='micro', ),\n",
    "         ', Recall: ', recall_score(y1_test, y_pred, average='micro', )\n",
    "      , ', F1: ', f1_score(y1_test, y_pred, average='micro'))"
   ]
  },
  {
   "cell_type": "code",
   "execution_count": 34,
   "id": "c7beb66a",
   "metadata": {},
   "outputs": [
    {
     "name": "stdout",
     "output_type": "stream",
     "text": [
      "Accuracy:  0.9059050772626932 , Precision:  0.9059050772626932 , Recall:  0.9059050772626932 , F1:  0.9059050772626932\n"
     ]
    },
    {
     "name": "stderr",
     "output_type": "stream",
     "text": [
      "/Users/jaygupta/opt/anaconda3/lib/python3.9/site-packages/sklearn/metrics/_classification.py:1318: UndefinedMetricWarning: Recall is ill-defined and being set to 0.0 due to no true samples. Use `zero_division` parameter to control this behavior.\n",
      "  _warn_prf(average, modifier, msg_start, len(result))\n"
     ]
    }
   ],
   "source": [
    "clf=DecisionTreeClassifier(criterion='entropy', max_depth=2500000 , ccp_alpha = 0.01 , random_state = 1)\n",
    "clf=clf.fit(x1_train, y1_train)\n",
    "y_pred=clf.predict(x1_test)\n",
    "acc=accuracy_score(y_pred, y1_test)\n",
    "pre=precision_score(y_pred, y1_test)\n",
    "rec=recall_score(y_pred, y1_test)\n",
    "print('Accuracy: ', accuracy_score(y1_test, y_pred), ', Precision: ', \n",
    "      precision_score(y1_test, y_pred, average='micro', ),\n",
    "         ', Recall: ', recall_score(y1_test, y_pred, average='micro', ),\n",
    "      ', F1: ', f1_score(y1_test, y_pred, average='micro'))"
   ]
  },
  {
   "cell_type": "markdown",
   "id": "fb90c78c",
   "metadata": {},
   "source": [
    "# Implementing Naive Bayes "
   ]
  },
  {
   "cell_type": "code",
   "execution_count": 19,
   "id": "5aa681b9",
   "metadata": {},
   "outputs": [
    {
     "name": "stdout",
     "output_type": "stream",
     "text": [
      "Accuracy:  0.8179464942709976 , Precision:  0.6075120491167205 , Recall:  0.6935335586527556 , F1:  0.8179464942709976\n"
     ]
    }
   ],
   "source": [
    "from sklearn.metrics import classification_report\n",
    "from sklearn.naive_bayes import CategoricalNB,BernoulliNB,ComplementNB,MultinomialNB,GaussianNB\n",
    "clf = GaussianNB()\n",
    "clf.fit(x_train, y_train)\n",
    "y_pred = clf.predict(x_test)\n",
    "accuracy = accuracy_score(y_test, y_pred)\n",
    "precision = precision_score(y_test, y_pred, average='macro', )\n",
    "recall = recall_score(y_test, y_pred, average='macro', )\n",
    "f1score = f1_score(y_test, y_pred, average='micro')\n",
    "print('Accuracy: ', accuracy, ', Precision: ', precision,\n",
    "         ', Recall: ', recall, ', F1: ', f1score)"
   ]
  },
  {
   "cell_type": "code",
   "execution_count": 43,
   "id": "60eef9b1",
   "metadata": {},
   "outputs": [
    {
     "name": "stdout",
     "output_type": "stream",
     "text": [
      "Accuracy:  0.7505781562072953 , Precision:  0.5863784165802413 , Recall:  0.7061681317517753 , F1:  0.7505781562072953\n"
     ]
    }
   ],
   "source": [
    "clf = ComplementNB()\n",
    "clf.fit(x_train,y_train)\n",
    "y_pred = clf.predict(x_test)\n",
    "accuracy = accuracy_score(y_test, y_pred)\n",
    "precision = precision_score(y_test, y_pred, average='macro', )\n",
    "recall = recall_score(y_test, y_pred, average='macro', )\n",
    "f1score = f1_score(y_test, y_pred, average='micro')\n",
    "print('Accuracy: ', accuracy, ', Precision: ', precision,\n",
    "         ', Recall: ', recall, ', F1: ', f1score)"
   ]
  },
  {
   "cell_type": "code",
   "execution_count": 44,
   "id": "8328cf1d",
   "metadata": {},
   "outputs": [
    {
     "name": "stdout",
     "output_type": "stream",
     "text": [
      "Accuracy:  0.9025281194155367 , Precision:  0.6738363636094696 , Recall:  0.5683607410254761 , F1:  0.9025281194155367\n"
     ]
    }
   ],
   "source": [
    "clf = MultinomialNB()\n",
    "clf.fit(x_train,y_train)\n",
    "y_pred = clf.predict(x_test)\n",
    "accuracy = accuracy_score(y_test, y_pred)\n",
    "precision = precision_score(y_test, y_pred, average='macro', )\n",
    "recall = recall_score(y_test, y_pred, average='macro', )\n",
    "f1score = f1_score(y_test, y_pred, average='micro')\n",
    "print('Accuracy: ', accuracy, ', Precision: ', precision,\n",
    "         ', Recall: ', recall, ', F1: ', f1score)"
   ]
  },
  {
   "cell_type": "code",
   "execution_count": 45,
   "id": "c8cc7155",
   "metadata": {},
   "outputs": [
    {
     "name": "stdout",
     "output_type": "stream",
     "text": [
      "Accuracy:  0.8735283296541575 , Precision:  0.62984866433627 , Recall:  0.6365080687067644 , F1:  0.8735283296541575\n"
     ]
    }
   ],
   "source": [
    "clf = BernoulliNB()\n",
    "clf.fit(x_train,y_train)\n",
    "y_pred = clf.predict(x_test)\n",
    "accuracy = accuracy_score(y_test, y_pred)\n",
    "precision = precision_score(y_test, y_pred, average='macro', )\n",
    "recall = recall_score(y_test, y_pred, average='macro', )\n",
    "f1score = f1_score(y_test, y_pred, average='micro')\n",
    "print('Accuracy: ', accuracy, ', Precision: ', precision,\n",
    "         ', Recall: ', recall, ', F1: ', f1score)"
   ]
  },
  {
   "cell_type": "code",
   "execution_count": 47,
   "id": "602e2838",
   "metadata": {},
   "outputs": [
    {
     "name": "stdout",
     "output_type": "stream",
     "text": [
      "Accuracy:  0.8711631451697677 , Precision:  0.6302215730035967 , Recall:  0.6446371912000324 , F1:  0.8711631451697677\n"
     ]
    }
   ],
   "source": [
    "clf = CategoricalNB()\n",
    "clf.fit(x_train,y_train)\n",
    "y_pred = clf.predict(x_test)\n",
    "accuracy = accuracy_score(y_test, y_pred)\n",
    "precision = precision_score(y_test, y_pred, average='macro', )\n",
    "recall = recall_score(y_test, y_pred, average='macro', )\n",
    "f1score = f1_score(y_test, y_pred, average='micro')\n",
    "print('Accuracy: ', accuracy, ', Precision: ', precision,\n",
    "         ', Recall: ', recall, ', F1: ', f1score)"
   ]
  },
  {
   "cell_type": "markdown",
   "id": "34b4cffb",
   "metadata": {},
   "source": [
    "### Checking for the best features to check if there is any change in accuracy"
   ]
  },
  {
   "cell_type": "code",
   "execution_count": 37,
   "id": "606c66fe",
   "metadata": {},
   "outputs": [
    {
     "name": "stdout",
     "output_type": "stream",
     "text": [
      "Accuracy:  0.8805187637969095 , Precision:  0.8805187637969095 , Recall:  0.8805187637969095 , F1:  0.8805187637969094\n"
     ]
    }
   ],
   "source": [
    "clf = GaussianNB()\n",
    "clf.fit(x1_train, y1_train)\n",
    "y_pred = clf.predict(x1_test)\n",
    "accuracy = accuracy_score(y1_test, y_pred)\n",
    "precision = precision_score(y1_test, y_pred, average='micro', )\n",
    "recall = recall_score(y1_test, y_pred, average='micro', )\n",
    "f1score = f1_score(y1_test, y_pred, average='micro')\n",
    "print('Accuracy: ', accuracy, ', Precision: ', precision,\n",
    "         ', Recall: ', recall, ', F1: ', f1score)"
   ]
  },
  {
   "cell_type": "code",
   "execution_count": 38,
   "id": "c2423038",
   "metadata": {},
   "outputs": [
    {
     "name": "stdout",
     "output_type": "stream",
     "text": [
      "Accuracy:  0.7455192893934616 , Precision:  0.7455192893934616 , Recall:  0.7455192893934616 , F1:  0.7455192893934616\n"
     ]
    }
   ],
   "source": [
    "clf = ComplementNB()\n",
    "clf.fit(x1_train,y1_train)\n",
    "y_pred = clf.predict(x1_test)\n",
    "accuracy = accuracy_score(y1_test, y_pred)\n",
    "precision = precision_score(y1_test, y_pred, average='micro', )\n",
    "recall = recall_score(y1_test, y_pred, average='micro', )\n",
    "f1score = f1_score(y1_test, y_pred, average='micro')\n",
    "print('Accuracy: ', accuracy, ', Precision: ', precision,\n",
    "         ', Recall: ', recall, ', F1: ', f1score)"
   ]
  },
  {
   "cell_type": "code",
   "execution_count": 39,
   "id": "8d388036",
   "metadata": {},
   "outputs": [
    {
     "name": "stdout",
     "output_type": "stream",
     "text": [
      "Accuracy:  0.9059050772626932 , Precision:  0.9059050772626932 , Recall:  0.9059050772626932 , F1:  0.9059050772626932\n"
     ]
    }
   ],
   "source": [
    "clf = MultinomialNB()\n",
    "clf.fit(x1_train,y1_train)\n",
    "y_pred = clf.predict(x1_test)\n",
    "accuracy = accuracy_score(y1_test, y_pred)\n",
    "precision = precision_score(y1_test, y_pred, average='micro', )\n",
    "recall = recall_score(y1_test, y_pred, average='micro', )\n",
    "f1score = f1_score(y1_test, y_pred, average='micro')\n",
    "print('Accuracy: ', accuracy, ', Precision: ', precision,\n",
    "         ', Recall: ', recall, ', F1: ', f1score)"
   ]
  },
  {
   "cell_type": "code",
   "execution_count": 40,
   "id": "742afea4",
   "metadata": {},
   "outputs": [
    {
     "name": "stdout",
     "output_type": "stream",
     "text": [
      "Accuracy:  0.8859849679386104 , Precision:  0.8859849679386104 , Recall:  0.8859849679386104 , F1:  0.8859849679386104\n"
     ]
    }
   ],
   "source": [
    "clf = BernoulliNB()\n",
    "clf.fit(x1_train,y1_train)\n",
    "y_pred = clf.predict(x1_test)\n",
    "accuracy = accuracy_score(y1_test, y_pred)\n",
    "precision = precision_score(y1_test, y_pred, average='micro', )\n",
    "recall = recall_score(y1_test, y_pred, average='micro', )\n",
    "f1score = f1_score(y1_test, y_pred, average='micro')\n",
    "print('Accuracy: ', accuracy, ', Precision: ', precision,\n",
    "         ', Recall: ', recall, ', F1: ', f1score)"
   ]
  },
  {
   "cell_type": "code",
   "execution_count": 41,
   "id": "9288a6a1",
   "metadata": {},
   "outputs": [
    {
     "name": "stdout",
     "output_type": "stream",
     "text": [
      "Accuracy:  0.8874566382844529 , Precision:  0.8874566382844529 , Recall:  0.8874566382844529 , F1:  0.8874566382844528\n"
     ]
    }
   ],
   "source": [
    "clf = CategoricalNB()\n",
    "clf.fit(x1_train,y1_train)\n",
    "y_pred = clf.predict(x1_test)\n",
    "accuracy = accuracy_score(y1_test, y_pred)\n",
    "precision = precision_score(y1_test, y_pred, average='micro', )\n",
    "recall = recall_score(y1_test, y_pred, average='micro', )\n",
    "f1score = f1_score(y1_test, y_pred, average='micro')\n",
    "print('Accuracy: ', accuracy, ', Precision: ', precision,\n",
    "         ', Recall: ', recall, ', F1: ', f1score)"
   ]
  },
  {
   "cell_type": "markdown",
   "id": "4baea27d",
   "metadata": {},
   "source": [
    "## Thus, we can see that the accuracy here has increased for the best features."
   ]
  },
  {
   "cell_type": "markdown",
   "id": "72a81496",
   "metadata": {},
   "source": [
    "## Naive Bayes for best features"
   ]
  },
  {
   "cell_type": "code",
   "execution_count": null,
   "id": "c64ed5f9",
   "metadata": {},
   "outputs": [],
   "source": []
  },
  {
   "cell_type": "markdown",
   "id": "7ab8e935",
   "metadata": {},
   "source": [
    "# Implementing Neural Networks"
   ]
  },
  {
   "cell_type": "markdown",
   "id": "b3a5dc64",
   "metadata": {},
   "source": [
    "## To implement Nueral Networks, we need to check whether all the parameters are integers or float.  "
   ]
  },
  {
   "cell_type": "code",
   "execution_count": 42,
   "id": "ed0c2806",
   "metadata": {},
   "outputs": [
    {
     "data": {
      "text/plain": [
       "HighBP               float64\n",
       "HighChol             float64\n",
       "CholCheck            float64\n",
       "BMI                  float64\n",
       "Smoker               float64\n",
       "Stroke               float64\n",
       "Diabetes             float64\n",
       "PhysActivity         float64\n",
       "Fruits               float64\n",
       "Veggies              float64\n",
       "HvyAlcoholConsump    float64\n",
       "AnyHealthcare        float64\n",
       "NoDocbcCost          float64\n",
       "GenHlth              float64\n",
       "MentHlth             float64\n",
       "PhysHlth             float64\n",
       "DiffWalk             float64\n",
       "Sex                  float64\n",
       "Age                  float64\n",
       "Education            float64\n",
       "Income               float64\n",
       "dtype: object"
      ]
     },
     "execution_count": 42,
     "metadata": {},
     "output_type": "execute_result"
    }
   ],
   "source": [
    "x_features.dtypes"
   ]
  },
  {
   "cell_type": "markdown",
   "id": "8f51ae2e",
   "metadata": {},
   "source": [
    "## Thus, implementing Nueral Networks."
   ]
  },
  {
   "cell_type": "code",
   "execution_count": 15,
   "id": "20b29176",
   "metadata": {},
   "outputs": [],
   "source": [
    "from sklearn.neural_network import MLPClassifier"
   ]
  },
  {
   "cell_type": "code",
   "execution_count": 50,
   "id": "06518429",
   "metadata": {},
   "outputs": [
    {
     "name": "stdout",
     "output_type": "stream",
     "text": [
      "Accuracy:  0.891753390097761 , Precision:  0.891753390097761 , Recall:  0.891753390097761 , F1:  0.891753390097761\n"
     ]
    },
    {
     "name": "stderr",
     "output_type": "stream",
     "text": [
      "/Users/jaygupta/opt/anaconda3/lib/python3.9/site-packages/sklearn/neural_network/_multilayer_perceptron.py:692: ConvergenceWarning: Stochastic Optimizer: Maximum iterations (200) reached and the optimization hasn't converged yet.\n",
      "  warnings.warn(\n"
     ]
    }
   ],
   "source": [
    "clf=MLPClassifier(solver='adam', alpha=1e-3,hidden_layer_sizes=(200,100,50,15), random_state=1)\n",
    "clf=clf.fit(x_train, y_train)\n",
    "y_pred=clf.predict(x_test)\n",
    "acc=accuracy_score(y_test, y_pred)\n",
    "pre=precision_score(y_test, y_pred, average='micro', )\n",
    "rec=recall_score(y_test, y_pred, average='micro', )\n",
    "f1score=f1_score(y_test, y_pred, average='micro')\n",
    "print('Accuracy: ', acc, ', Precision: ', pre,\n",
    "         ', Recall: ', rec, ', F1: ', f1score)"
   ]
  },
  {
   "cell_type": "markdown",
   "id": "f056a920",
   "metadata": {},
   "source": [
    "## Parameter Tuning for Nueral Networks"
   ]
  },
  {
   "cell_type": "code",
   "execution_count": 51,
   "id": "9f345788",
   "metadata": {},
   "outputs": [
    {
     "name": "stdout",
     "output_type": "stream",
     "text": [
      "Accuracy:  0.9073898875223378 , Precision:  0.9073898875223378 , Recall:  0.9073898875223378 , F1:  0.9073898875223378\n"
     ]
    }
   ],
   "source": [
    "clf=MLPClassifier(solver='sgd',activation = \"relu\",learning_rate_init = 0.0001,alpha=0.01,hidden_layer_sizes=(200))\n",
    "clf=clf.fit(x_train, y_train)\n",
    "y_pred=clf.predict(x_test)\n",
    "acc=accuracy_score(y_test, y_pred)\n",
    "pre=precision_score(y_test, y_pred, average='micro', )\n",
    "rec=recall_score(y_test, y_pred, average='micro', )\n",
    "f1score=f1_score(y_test, y_pred, average='micro')\n",
    "print('Accuracy: ', acc, ', Precision: ', pre,\n",
    "         ', Recall: ', rec, ', F1: ', f1score)"
   ]
  },
  {
   "cell_type": "code",
   "execution_count": 54,
   "id": "609dff8a",
   "metadata": {},
   "outputs": [
    {
     "name": "stdout",
     "output_type": "stream",
     "text": [
      "Accuracy:  0.9073898875223378 , Precision:  0.9073898875223378 , Recall:  0.9073898875223378 , F1:  0.9073898875223378\n"
     ]
    }
   ],
   "source": [
    "clf=MLPClassifier(solver='sgd', activation = \"tanh\", learning_rate_init = 0.0001,  alpha=0.01)\n",
    "clf=clf.fit(x_train, y_train)\n",
    "y_pred=clf.predict(x_test)\n",
    "acc=accuracy_score(y_test, y_pred)\n",
    "pre=precision_score(y_test, y_pred, average='micro', )\n",
    "rec=recall_score(y_test, y_pred, average='micro', )\n",
    "f1score=f1_score(y_test, y_pred, average='micro')\n",
    "print('Accuracy: ', acc, ', Precision: ', pre,\n",
    "         ', Recall: ', rec, ', F1: ', f1score)"
   ]
  },
  {
   "cell_type": "markdown",
   "id": "d5e07141",
   "metadata": {},
   "source": [
    "### Implementing Nueral networks for the best features"
   ]
  },
  {
   "cell_type": "code",
   "execution_count": 17,
   "id": "6ae0cdf9",
   "metadata": {},
   "outputs": [
    {
     "name": "stdout",
     "output_type": "stream",
     "text": [
      "Accuracy:  0.9081388626090613 , Precision:  0.9081388626090613 , Recall:  0.9081388626090613 , F1:  0.9081388626090613\n"
     ]
    }
   ],
   "source": [
    "clf=MLPClassifier(solver='adam', alpha=1e-3,hidden_layer_sizes=(200,100,50,15), random_state=1)\n",
    "clf=clf.fit(x1_train, y1_train)\n",
    "y_pred=clf.predict(x1_test)\n",
    "acc=accuracy_score(y1_test, y_pred)\n",
    "pre=precision_score(y1_test, y_pred, average='micro', )\n",
    "rec=recall_score(y1_test, y_pred, average='micro', )\n",
    "f1score=f1_score(y1_test, y_pred, average='micro')\n",
    "print('Accuracy: ', acc, ', Precision: ', pre,\n",
    "         ', Recall: ', rec, ', F1: ', f1score)"
   ]
  },
  {
   "cell_type": "code",
   "execution_count": 19,
   "id": "a0aefde0",
   "metadata": {},
   "outputs": [
    {
     "name": "stdout",
     "output_type": "stream",
     "text": [
      "Accuracy:  0.9069168506254599 , Precision:  0.9069168506254599 , Recall:  0.9069168506254599 , F1:  0.9069168506254599\n"
     ]
    }
   ],
   "source": [
    "clf=MLPClassifier(solver='sgd', activation = \"relu\", learning_rate_init = 0.1,  alpha=1e-11)\n",
    "clf=clf.fit(x_train, y_train)\n",
    "y_pred=clf.predict(x_test)\n",
    "acc=accuracy_score(y_test, y_pred)\n",
    "pre=precision_score(y_test, y_pred, average='micro', )\n",
    "rec=recall_score(y_test, y_pred, average='micro', )\n",
    "f1score=f1_score(y_test, y_pred, average='micro')\n",
    "print('Accuracy: ', acc, ', Precision: ', pre,\n",
    "         ', Recall: ', rec, ', F1: ', f1score)"
   ]
  }
 ],
 "metadata": {
  "kernelspec": {
   "display_name": "Python 3 (ipykernel)",
   "language": "python",
   "name": "python3"
  },
  "language_info": {
   "codemirror_mode": {
    "name": "ipython",
    "version": 3
   },
   "file_extension": ".py",
   "mimetype": "text/x-python",
   "name": "python",
   "nbconvert_exporter": "python",
   "pygments_lexer": "ipython3",
   "version": "3.9.12"
  }
 },
 "nbformat": 4,
 "nbformat_minor": 5
}
